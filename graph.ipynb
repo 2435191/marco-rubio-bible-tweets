{
 "metadata": {
  "language_info": {
   "codemirror_mode": {
    "name": "ipython",
    "version": 3
   },
   "file_extension": ".py",
   "mimetype": "text/x-python",
   "name": "python",
   "nbconvert_exporter": "python",
   "pygments_lexer": "ipython3",
   "version": "3.8.2-final"
  },
  "orig_nbformat": 2,
  "kernelspec": {
   "name": "python3",
   "display_name": "Python 3.8.2 64-bit",
   "metadata": {
    "interpreter": {
     "hash": "082e9a3bcad0a290d0001e938aa60b99250c6c2ef33a923c00b70f9826caf4b7"
    }
   }
  }
 },
 "nbformat": 4,
 "nbformat_minor": 2,
 "cells": [
  {
   "cell_type": "code",
   "execution_count": 1,
   "metadata": {},
   "outputs": [],
   "source": [
    "import pandas\n",
    "import numpy as np\n",
    "import datetime\n",
    "\n",
    "%matplotlib tk\n",
    "import matplotlib as mpl\n",
    "import matplotlib.pyplot as plt"
   ]
  },
  {
   "cell_type": "code",
   "execution_count": 2,
   "metadata": {},
   "outputs": [],
   "source": [
    "df = pandas.read_csv('grouped.csv', index_col='date')"
   ]
  },
  {
   "cell_type": "code",
   "execution_count": 3,
   "metadata": {},
   "outputs": [],
   "source": [
    "df['bible_tweet_pct'] = df['bible_tweet_count'] / df['total_tweets'] * 100"
   ]
  },
  {
   "cell_type": "code",
   "execution_count": 4,
   "metadata": {},
   "outputs": [],
   "source": [
    "df.loc[~np.isfinite(df['bible_tweet_pct']), 'bible_tweet_pct'] = 0 # any div 0 operations will return +/- np.inf"
   ]
  },
  {
   "cell_type": "code",
   "execution_count": 5,
   "metadata": {},
   "outputs": [],
   "source": [
    "df.index = df.index.map(lambda x : datetime.datetime.strptime(x, '%Y-%m-%d'))"
   ]
  },
  {
   "cell_type": "code",
   "execution_count": 6,
   "metadata": {},
   "outputs": [],
   "source": [
    "fig, ax = plt.subplots()"
   ]
  },
  {
   "cell_type": "code",
   "execution_count": 7,
   "metadata": {},
   "outputs": [],
   "source": [
    "ax.xaxis.set_major_locator(mpl.dates.MonthLocator(interval=12))\n",
    "ax.xaxis.set_major_formatter(mpl.dates.DateFormatter('%b %Y'))"
   ]
  },
  {
   "cell_type": "code",
   "execution_count": 8,
   "metadata": {},
   "outputs": [],
   "source": [
    "all_tweets = ax.bar(df.index, df['total_tweets'], width=10, color='xkcd:dark red', label='All tweets')\n",
    "bible_tweets = ax.bar(df.index, df['bible_tweet_count'], width=10, color='blue', label='Tweets that contain a Bible verse')\n",
    "ax.xaxis_date()"
   ]
  },
  {
   "cell_type": "code",
   "execution_count": 9,
   "metadata": {},
   "outputs": [],
   "source": [
    "condition_year = datetime.datetime(2015, 1, 1)\n",
    "percent_condition = df.index >= condition_year"
   ]
  },
  {
   "cell_type": "code",
   "execution_count": 10,
   "metadata": {},
   "outputs": [],
   "source": [
    "ax2 = ax.twinx()\n",
    "line = ax2.plot(df.index[percent_condition], df.loc[percent_condition, 'bible_tweet_pct'], color='xkcd:green', linestyle=':', label=f'Perc. of all tweets that contain a Bible verse (after {condition_year.year})')\n",
    "ax2.xaxis_date()"
   ]
  },
  {
   "cell_type": "code",
   "execution_count": 11,
   "metadata": {},
   "outputs": [],
   "source": [
    "ax2.xaxis.set_major_locator(mpl.dates.MonthLocator(interval=12))\n",
    "ax2.xaxis.set_major_formatter(mpl.dates.DateFormatter('%b %Y'))"
   ]
  },
  {
   "cell_type": "code",
   "execution_count": 12,
   "metadata": {},
   "outputs": [
    {
     "output_type": "execute_result",
     "data": {
      "text/plain": [
       "<matplotlib.legend.Legend at 0x11d5f7c70>"
      ]
     },
     "metadata": {},
     "execution_count": 12
    }
   ],
   "source": [
    "ax.legend()\n",
    "ax2.legend(loc='upper right')"
   ]
  },
  {
   "cell_type": "code",
   "execution_count": 13,
   "metadata": {},
   "outputs": [
    {
     "output_type": "execute_result",
     "data": {
      "text/plain": [
       "Text(0.5, 0.95, 'Jim Bradley (@538_bot, u/2435191)')"
      ]
     },
     "metadata": {},
     "execution_count": 13
    }
   ],
   "source": [
    "ax.set_title(\"\"\"An analysis of Sen. Marco Rubio (R-FL)'s Tweets\"\"\", y=1.1)\n",
    "fig.text(0.5, 0.95, \"\"\"Jim Bradley (@538_bot, u/2435191)\"\"\", fontsize=9, ha='center')"
   ]
  },
  {
   "cell_type": "code",
   "execution_count": 14,
   "metadata": {},
   "outputs": [
    {
     "output_type": "execute_result",
     "data": {
      "text/plain": [
       "12.453428458184701"
      ]
     },
     "metadata": {},
     "execution_count": 14
    }
   ],
   "source": [
    "avg = df['bible_tweet_count'].sum() / df['total_tweets'].sum() * 100 # not used for anything, just a fun statistic\n",
    "avg"
   ]
  },
  {
   "cell_type": "code",
   "execution_count": 15,
   "metadata": {},
   "outputs": [],
   "source": [
    "tweets = pandas.read_csv('data.csv')"
   ]
  },
  {
   "cell_type": "code",
   "execution_count": 17,
   "metadata": {},
   "outputs": [
    {
     "output_type": "stream",
     "name": "stdout",
     "text": [
      "Proverbs                207\nPsalms                  184\nIsaiah                  104\nJohn                     45\nWisdom                   44\nLuke                     42\nMatthew                  37\nJeremiah                 35\nEcclesiastes             26\nMark                     22\nDeuteronomy              20\nGenesis                  18\nEzekiel                  17\nJob                      13\nEphesians                10\nDaniel                   10\nHosea                     9\nMalachi                   8\nMicah                     7\nLeviticus                 6\n2 John                    6\nPhilippians               6\nJoel                      5\n1 Peter                   5\nHebrews                   5\nNumbers                   5\n1 Samuel                  5\nRomans                    4\nActs of the Apostles      4\n3 John                    4\nGalatians                 4\nTitus                     4\nAmos                      4\nZephaniah                 4\n2 Corinthians             4\nExodus                    4\nJames                     4\n2 Timothy                 4\n1 John                    3\n1 Corinthians             3\nJoshua                    3\nRevelation                3\n2 Peter                   2\nJudges                    2\nHabakkuk                  2\n1 Thessalonians           2\n2 Chronicles              2\nZechariah                 2\n1 Chronicles              2\nColossians                2\n2 Kings                   1\n1 Kings                   1\nSirach                    1\n2 Maccabees               1\nHaggai                    1\nObadiah                   1\nName: verse_full, dtype: int64\n"
     ]
    }
   ],
   "source": [
    "with pandas.option_context('display.max_rows', None):\n",
    "    print( tweets.loc[tweets['is_verse'], 'verse_full'].value_counts() ) # what's rubio's favorite verse to tweet from?"
   ]
  },
  {
   "cell_type": "code",
   "execution_count": null,
   "metadata": {},
   "outputs": [],
   "source": []
  }
 ]
}